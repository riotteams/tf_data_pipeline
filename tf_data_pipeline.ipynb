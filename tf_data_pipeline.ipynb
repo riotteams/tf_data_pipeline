{
 "cells": [
  {
   "cell_type": "code",
   "execution_count": 1,
   "metadata": {},
   "outputs": [],
   "source": [
    "import tensorflow as tf"
   ]
  },
  {
   "cell_type": "code",
   "execution_count": 2,
   "metadata": {},
   "outputs": [],
   "source": [
    "reviews_ds = tf.data.Dataset.list_files('reviews/*/*', shuffle=False)"
   ]
  },
  {
   "cell_type": "code",
   "execution_count": 3,
   "metadata": {
    "scrolled": true
   },
   "outputs": [
    {
     "name": "stdout",
     "output_type": "stream",
     "text": [
      "b'reviews\\\\negative\\\\neg_1.txt'\n",
      "b'reviews\\\\negative\\\\neg_2.txt'\n",
      "b'reviews\\\\negative\\\\neg_3.txt'\n",
      "b'reviews\\\\positive\\\\pos_1.txt'\n",
      "b'reviews\\\\positive\\\\pos_2.txt'\n",
      "b'reviews\\\\positive\\\\pos_3.txt'\n"
     ]
    }
   ],
   "source": [
    "for file in reviews_ds:\n",
    "    print(file.numpy())"
   ]
  },
  {
   "cell_type": "code",
   "execution_count": 4,
   "metadata": {},
   "outputs": [],
   "source": [
    "import os\n",
    "def extract_review_and_label(file_path):\n",
    "    return tf.io.read_file(file_path), tf.strings.split(file_path, os.path.sep)[-2]"
   ]
  },
  {
   "cell_type": "code",
   "execution_count": 5,
   "metadata": {},
   "outputs": [
    {
     "name": "stdout",
     "output_type": "stream",
     "text": [
      "Review:  b\"Basically there's a family where a little boy (Jak\"\n",
      "Label:  b'negative'\n",
      "Review:  b'This show was an amazing, fresh & innovative idea '\n",
      "Label:  b'negative'\n",
      "Review:  b''\n",
      "Label:  b'negative'\n",
      "Review:  b'One of the other reviewers has mentioned that afte'\n",
      "Label:  b'positive'\n",
      "Review:  b'A wonderful little production. <br /><br />The fil'\n",
      "Label:  b'positive'\n",
      "Review:  b''\n",
      "Label:  b'positive'\n"
     ]
    }
   ],
   "source": [
    "reviews_ds_1 = reviews_ds.map(extract_review_and_label)\n",
    "for review, label in reviews_ds_1:\n",
    "    print(\"Review: \",review.numpy()[:50])\n",
    "    print(\"Label: \",label.numpy())"
   ]
  },
  {
   "cell_type": "code",
   "execution_count": 6,
   "metadata": {
    "scrolled": true
   },
   "outputs": [
    {
     "name": "stdout",
     "output_type": "stream",
     "text": [
      "Review:  b\"Basically there's a family where a little boy (Jak\"\n",
      "Label:  b'negative'\n",
      "Review:  b'This show was an amazing, fresh & innovative idea '\n",
      "Label:  b'negative'\n",
      "Review:  b'One of the other reviewers has mentioned that afte'\n",
      "Label:  b'positive'\n",
      "Review:  b'A wonderful little production. <br /><br />The fil'\n",
      "Label:  b'positive'\n"
     ]
    }
   ],
   "source": [
    "reviews_ds_2 = reviews_ds_1.filter(lambda review, label: review!=\"\")\n",
    "for review, label in reviews_ds_2.as_numpy_iterator():\n",
    "    print(\"Review: \",review[:50])\n",
    "    print(\"Label: \",label)"
   ]
  },
  {
   "cell_type": "code",
   "execution_count": 7,
   "metadata": {},
   "outputs": [
    {
     "name": "stdout",
     "output_type": "stream",
     "text": [
      "Review: b'One of the other reviewers has mentioned that afte'\n",
      "Label: b'positive'\n",
      "Review: b'A wonderful little production. <br /><br />The fil'\n",
      "Label: b'positive'\n",
      "Review: b\"Basically there's a family where a little boy (Jak\"\n",
      "Label: b'negative'\n",
      "Review: b'This show was an amazing, fresh & innovative idea '\n",
      "Label: b'negative'\n"
     ]
    }
   ],
   "source": [
    "final_ds = reviews_ds.map(extract_review_and_label).filter(lambda review, label: review!=\"\").shuffle(3)\n",
    "for review, label in final_ds.as_numpy_iterator():\n",
    "    print(\"Review:\",review[:50])\n",
    "    print(\"Label:\",label)"
   ]
  }
 ],
 "metadata": {
  "kernelspec": {
   "display_name": "Python 3 (ipykernel)",
   "language": "python",
   "name": "python3"
  },
  "language_info": {
   "codemirror_mode": {
    "name": "ipython",
    "version": 3
   },
   "file_extension": ".py",
   "mimetype": "text/x-python",
   "name": "python",
   "nbconvert_exporter": "python",
   "pygments_lexer": "ipython3",
   "version": "3.9.12"
  }
 },
 "nbformat": 4,
 "nbformat_minor": 4
}
